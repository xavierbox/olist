{
 "cells": [
  {
   "cell_type": "code",
   "execution_count": 4,
   "metadata": {},
   "outputs": [
    {
     "name": "stdout",
     "output_type": "stream",
     "text": [
      "score 1.0 bias 3.0 coefficients [1. 2.], predictions [16.]\n",
      "summary\n",
      " I, the object type  <class 'sklearn.linear_model._base.LinearRegression'>  can talk and produce a summary [[1 1]\n",
      " [1 2]\n",
      " [2 2]\n",
      " [2 3]] [ 6  8  9 11]\n"
     ]
    }
   ],
   "source": [
    "\n",
    "import sys \n",
    "sys.path.append('./')\n",
    "sys.path.append('../')\n",
    "sys.path.append('../..')\n",
    "\n",
    "import numpy as np\n",
    "#from sklearn.linear_model import LinearRegression\n",
    "from src.sklearn_extensions.sklearn_extensions import * \n",
    "\n",
    "X = np.array([[1, 1], [1, 2], [2, 2], [2, 3]])\n",
    "# y = 1 * x_0 + 2 * x_1 + 3\n",
    "\n",
    "y = np.dot(X, np.array([1, 2])) + 3\n",
    "reg = LinearRegression().fit(X, y)\n",
    "score = reg.score(X, y)\n",
    "coefficients = reg.coef_\n",
    "bias = reg.intercept_\n",
    "predictions = reg.predict(np.array([[3, 5]]))\n",
    "\n",
    "print( \"score {} bias {} coefficients {}, predictions {}\".format( score, round(bias,2), coefficients, predictions))\n",
    "\n",
    "#added functionality \n",
    "print('summary')\n",
    "reg.summary(X,y)\n",
    "\n"
   ]
  },
  {
   "cell_type": "code",
   "execution_count": null,
   "metadata": {},
   "outputs": [],
   "source": []
  },
  {
   "cell_type": "code",
   "execution_count": 3,
   "metadata": {},
   "outputs": [
    {
     "data": {
      "text/plain": [
       "array([[1., 1., 1.],\n",
       "       [1., 1., 1.],\n",
       "       [1., 1., 1.]])"
      ]
     },
     "execution_count": 3,
     "metadata": {},
     "output_type": "execute_result"
    }
   ],
   "source": [
    "np.ones( (3,3))"
   ]
  }
 ],
 "metadata": {
  "kernelspec": {
   "display_name": "env",
   "language": "python",
   "name": "python3"
  },
  "language_info": {
   "codemirror_mode": {
    "name": "ipython",
    "version": 3
   },
   "file_extension": ".py",
   "mimetype": "text/x-python",
   "name": "python",
   "nbconvert_exporter": "python",
   "pygments_lexer": "ipython3",
   "version": "3.10.13"
  }
 },
 "nbformat": 4,
 "nbformat_minor": 2
}
